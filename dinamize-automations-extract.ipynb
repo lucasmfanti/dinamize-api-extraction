{
 "cells": [
  {
   "cell_type": "code",
   "execution_count": null,
   "metadata": {},
   "outputs": [],
   "source": [
    "import requests\n",
    "import json\n",
    "import pandas as pd"
   ]
  },
  {
   "cell_type": "code",
   "execution_count": null,
   "metadata": {},
   "outputs": [],
   "source": [
    "url_auth = 'https://api.dinamize.com/auth'\n",
    "auth_info = {\n",
    "    \"user\": \"#####@##########\",\n",
    "    \"password\": \"#######################\",\n",
    "    \"client_code\": \"######\"\n",
    "  }\n",
    "header_auth = {'Content-Type': 'application/json'}\n",
    "post_auth = requests.post(url_auth, headers = header_auth, json = auth_info)\n",
    "response_auth = json.loads(post_auth.text)\n",
    "auth_token = response_auth['body']['auth-token']"
   ]
  },
  {
   "cell_type": "code",
   "execution_count": null,
   "metadata": {},
   "outputs": [],
   "source": [
    "url = 'https://api.dinamize.com/emkt/action/automation_list'\n",
    "header = {\n",
    "    'auth-token': auth_token,\n",
    "    'content-type': 'application/json'\n",
    "}\n",
    "parameters = {\n",
    "  'contact-list_code':'1'\n",
    "}\n",
    "post = requests.post(url, headers = header, json = parameters)\n",
    "response = json.loads(post.text)"
   ]
  },
  {
   "cell_type": "code",
   "execution_count": null,
   "metadata": {},
   "outputs": [],
   "source": [
    "automation_title = []\n",
    "automation_inserted_at = []\n",
    "action_code = []\n",
    "action_title = []\n",
    "action_started_at = []\n",
    "\n",
    "num_automations = len(response['body']['items'])"
   ]
  },
  {
   "cell_type": "code",
   "execution_count": null,
   "metadata": {},
   "outputs": [],
   "source": [
    "for i in range(num_automations):\n",
    "  num_action = len(response['body']['items'][0]['action_list'])\n",
    "  for j in range(num_action):\n",
    "    automation_title.append(response['body']['items'][i]['title'])\n",
    "    automation_inserted_at.append(response['body']['items'][i]['insert_date'])\n",
    "    action_code.append(response['body']['items'][i]['action_list'][j]['action_code'])\n",
    "    action_title.append(response['body']['items'][i]['action_list'][j]['action_title'])\n",
    "    action_started_at.append(response['body']['items'][i]['action_list'][j]['action_start_date'])"
   ]
  },
  {
   "cell_type": "code",
   "execution_count": null,
   "metadata": {},
   "outputs": [],
   "source": [
    "click = []\n",
    "contacts = []\n",
    "delivered = []\n",
    "error = []\n",
    "sent = []\n",
    "spam = []\n",
    "view = []\n",
    "\n",
    "url = 'https://api.dinamize.com/emkt/action/report'\n",
    "header = {\n",
    "    'auth-token': auth_token,\n",
    "    'content-type': 'application/json'\n",
    "}\n",
    "\n",
    "num_actions = len(action_code)"
   ]
  },
  {
   "cell_type": "code",
   "execution_count": null,
   "metadata": {},
   "outputs": [],
   "source": [
    "for i in range(num_actions):\n",
    "  parameters = {\n",
    "  'action_code':action_code[i],\n",
    "  'type':'summary'\n",
    "  }\n",
    "  post = requests.post(url, headers = header, json = parameters)\n",
    "  response = json.loads(post.text)\n",
    "  click.append(response['body']['click'])\n",
    "  contacts.append(response['body']['contacts'])\n",
    "  delivered.append(response['body']['delivered'])\n",
    "  error.append(response['body']['error'])\n",
    "  sent.append(response['body']['sent'])\n",
    "  spam.append(response['body']['spam'])\n",
    "  view.append(response['body']['view'])"
   ]
  },
  {
   "cell_type": "code",
   "execution_count": null,
   "metadata": {},
   "outputs": [],
   "source": [
    "dicti = {\n",
    "    'id': action_code,\n",
    "    'title': action_title,\n",
    "    'automation_title': automation_title,\n",
    "    'automation_inserted_at': automation_inserted_at,\n",
    "    'contacts': contacts,\n",
    "    'sent': sent,\n",
    "    'delivered': delivered,\n",
    "    'view': view,\n",
    "    'spam': spam,\n",
    "    'error': error,\n",
    "    'clicks': click,\n",
    "    'started_at': action_started_at\n",
    "}"
   ]
  },
  {
   "cell_type": "code",
   "execution_count": null,
   "metadata": {},
   "outputs": [],
   "source": [
    "df_automations = pd.DataFrame(dicti)\n",
    "df_automations"
   ]
  }
 ],
 "metadata": {
  "language_info": {
   "name": "python"
  },
  "orig_nbformat": 4
 },
 "nbformat": 4,
 "nbformat_minor": 2
}
