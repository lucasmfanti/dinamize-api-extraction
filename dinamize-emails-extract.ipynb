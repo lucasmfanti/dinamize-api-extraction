{
 "cells": [
  {
   "cell_type": "code",
   "execution_count": null,
   "metadata": {},
   "outputs": [],
   "source": [
    "import requests\n",
    "import json\n",
    "import pandas as pd"
   ]
  },
  {
   "cell_type": "code",
   "execution_count": null,
   "metadata": {},
   "outputs": [],
   "source": [
    "url_auth = 'https://api.dinamize.com/auth'\n",
    "auth_info = {\n",
    "    \"user\": \"######@##########\",\n",
    "    \"password\": \"#######################\",\n",
    "    \"client_code\": \"######\"\n",
    "  }\n",
    "header_auth = {'Content-Type': 'application/json'}\n",
    "post_auth = requests.post(url_auth, headers = header_auth, json = auth_info)\n",
    "response_auth = json.loads(post_auth.text)\n",
    "auth_token = response_auth['body']['auth-token']"
   ]
  },
  {
   "cell_type": "code",
   "execution_count": null,
   "metadata": {},
   "outputs": [],
   "source": [
    "url = 'https://api.dinamize.com/emkt/action/search'\n",
    "header = {\n",
    "    'auth-token': auth_token,\n",
    "    'content-type': 'application/json'\n",
    "}\n",
    "parameters = {\n",
    "    \"page_number\": \"1\",\n",
    "    \"page_size\": \"100\",\n",
    "    \"show_children\": True\n",
    "}\n",
    "post = requests.post(url, headers = header, json = parameters)\n",
    "response = json.loads(post.text)"
   ]
  },
  {
   "cell_type": "code",
   "execution_count": null,
   "metadata": {},
   "outputs": [],
   "source": [
    "code = []\n",
    "created_at = []\n",
    "started_at = []\n",
    "ended_at = []\n",
    "subject = []\n",
    "title = []\n",
    "\n",
    "num_actions = len(response['body']['items'])"
   ]
  },
  {
   "cell_type": "code",
   "execution_count": null,
   "metadata": {},
   "outputs": [],
   "source": [
    "for i in range(num_actions):\n",
    "  code.append(response['body']['items'][i]['code'])\n",
    "  created_at.append(response['body']['items'][i]['date_create'])\n",
    "  started_at.append(response['body']['items'][i]['date_start'])\n",
    "  ended_at.append(response['body']['items'][i]['date_end'])\n",
    "  subject.append(response['body']['items'][i]['subject'])\n",
    "  title.append(response['body']['items'][i]['title'])"
   ]
  },
  {
   "cell_type": "code",
   "execution_count": null,
   "metadata": {},
   "outputs": [],
   "source": [
    "click = []\n",
    "contacts = []\n",
    "delivered = []\n",
    "error = []\n",
    "sent = []\n",
    "spam = []\n",
    "view = []\n",
    "\n",
    "url = 'https://api.dinamize.com/emkt/action/report'\n",
    "header = {\n",
    "    'auth-token': auth_token,\n",
    "    'content-type': 'application/json'\n",
    "}"
   ]
  },
  {
   "cell_type": "code",
   "execution_count": null,
   "metadata": {},
   "outputs": [],
   "source": [
    "for i in range(num_actions):\n",
    "  parameters = {\n",
    "  'action_code':code[i],\n",
    "  'type':'summary'\n",
    "  }\n",
    "  post = requests.post(url, headers = header, json = parameters)\n",
    "  response = json.loads(post.text)\n",
    "  click.append(response['body']['click'])\n",
    "  contacts.append(response['body']['contacts'])\n",
    "  delivered.append(response['body']['delivered'])\n",
    "  error.append(response['body']['error'])\n",
    "  sent.append(response['body']['sent'])\n",
    "  spam.append(response['body']['spam'])\n",
    "  view.append(response['body']['view'])"
   ]
  },
  {
   "cell_type": "code",
   "execution_count": null,
   "metadata": {},
   "outputs": [],
   "source": [
    "dicti = {\n",
    "    'id': code,\n",
    "    'title': title,\n",
    "    'subject': subject,\n",
    "    'contacts': contacts,\n",
    "    'sent': sent,\n",
    "    'delivered': delivered,\n",
    "    'view': view,\n",
    "    'spam': spam,\n",
    "    'error': error,\n",
    "    'clicks': click,\n",
    "    'started_at': started_at,\n",
    "    'ended_at': ended_at,\n",
    "    'created_at': created_at\n",
    "}"
   ]
  },
  {
   "cell_type": "code",
   "execution_count": null,
   "metadata": {},
   "outputs": [],
   "source": [
    "df_emails = pd.DataFrame(dicti)\n",
    "df_emails"
   ]
  }
 ],
 "metadata": {
  "language_info": {
   "name": "python"
  },
  "orig_nbformat": 4
 },
 "nbformat": 4,
 "nbformat_minor": 2
}
